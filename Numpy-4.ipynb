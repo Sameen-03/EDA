{
 "cells": [
  {
   "cell_type": "markdown",
   "id": "03360a2c-a05c-4680-aaf3-9dd3bee76c74",
   "metadata": {},
   "source": [
    "- min\n",
    "- max\n",
    "- mean\n",
    "- median\n",
    "- variance\n",
    "- covariance\n",
    "- standard deviation\n",
    "- Distance between two points\n",
    "- Roots of an equation\n",
    "- cosine similarity"
   ]
  },
  {
   "cell_type": "code",
   "execution_count": 1,
   "id": "e8a0f39d-7309-48b2-896e-9572e2fa24f8",
   "metadata": {},
   "outputs": [],
   "source": [
    "import numpy as np"
   ]
  },
  {
   "cell_type": "code",
   "execution_count": 3,
   "id": "e19b0caa-6d41-48b1-ac15-f4a3bbecca10",
   "metadata": {},
   "outputs": [],
   "source": [
    "l1 = [1,100,2,98,3,95,4,5,120,77]"
   ]
  },
  {
   "cell_type": "code",
   "execution_count": 13,
   "id": "9353a1c5-af51-4e3f-a9e0-34c1ee974d5b",
   "metadata": {},
   "outputs": [],
   "source": [
    "l2 = [1,2,3,4,5,6,7,8,9,10]"
   ]
  },
  {
   "cell_type": "code",
   "execution_count": null,
   "id": "17a4dcf9-6bd0-4326-8ccc-e76316db0fb4",
   "metadata": {},
   "outputs": [],
   "source": [
    "np.min()\n",
    "np.max()\n",
    "np.mean()\n",
    "pn.median()\n",
    "np.var()\n",
    "np.cov()"
   ]
  },
  {
   "cell_type": "code",
   "execution_count": 5,
   "id": "1f351cd6-1f74-4a5c-9dba-e4d0a44436d3",
   "metadata": {},
   "outputs": [
    {
     "name": "stdout",
     "output_type": "stream",
     "text": [
      "1\n"
     ]
    }
   ],
   "source": [
    "print(np.min(l1))"
   ]
  },
  {
   "cell_type": "code",
   "execution_count": 6,
   "id": "02fd2685-3eec-425d-97d2-b20398653239",
   "metadata": {},
   "outputs": [
    {
     "name": "stdout",
     "output_type": "stream",
     "text": [
      "120\n"
     ]
    }
   ],
   "source": [
    "print(np.max(l1))"
   ]
  },
  {
   "cell_type": "code",
   "execution_count": 7,
   "id": "1784df52-0ab9-4452-89e1-8a70ddcd82d9",
   "metadata": {},
   "outputs": [
    {
     "name": "stdout",
     "output_type": "stream",
     "text": [
      "50.5\n"
     ]
    }
   ],
   "source": [
    "print(np.mean(l1))"
   ]
  },
  {
   "cell_type": "code",
   "execution_count": 8,
   "id": "9169758a-1909-4838-bac7-c6288e9cb33f",
   "metadata": {},
   "outputs": [
    {
     "name": "stdout",
     "output_type": "stream",
     "text": [
      "41.0\n"
     ]
    }
   ],
   "source": [
    "print(np.median(l1))"
   ]
  },
  {
   "cell_type": "code",
   "execution_count": 16,
   "id": "139b6263-96e3-4246-bebb-c71c277fdb14",
   "metadata": {},
   "outputs": [
    {
     "name": "stdout",
     "output_type": "stream",
     "text": [
      "2351.05\n"
     ]
    }
   ],
   "source": [
    "print(np.var(l1))"
   ]
  },
  {
   "cell_type": "code",
   "execution_count": 14,
   "id": "8fd8c1e4-8081-4ab6-8935-0b1a250e72d2",
   "metadata": {},
   "outputs": [
    {
     "name": "stdout",
     "output_type": "stream",
     "text": [
      "[[2612.27777778   36.05555556]\n",
      " [  36.05555556    9.16666667]]\n"
     ]
    }
   ],
   "source": [
    "print(np.cov(l1,l2))"
   ]
  },
  {
   "cell_type": "code",
   "execution_count": 19,
   "id": "858ee64e-fcb4-4d02-8d10-db2798ca0364",
   "metadata": {},
   "outputs": [
    {
     "name": "stdout",
     "output_type": "stream",
     "text": [
      "48.48762728779374\n"
     ]
    }
   ],
   "source": [
    "print(np.std(l1))"
   ]
  },
  {
   "cell_type": "code",
   "execution_count": 20,
   "id": "b57b8456-eba0-4c3a-85cb-635e53a0ced1",
   "metadata": {},
   "outputs": [
    {
     "name": "stdout",
     "output_type": "stream",
     "text": [
      "[3102]\n"
     ]
    }
   ],
   "source": [
    "print(np.correlate(l1,l2))"
   ]
  },
  {
   "cell_type": "markdown",
   "id": "6b37240c-40a2-4ec2-bca5-580cbc044917",
   "metadata": {},
   "source": [
    "<img src=\"https://media.geeksforgeeks.org/wp-content/uploads/20240619160346/Mean-Variance-and-Standard-Deviation-1.webp\" jsaction=\"\" class=\"sFlh5c FyHeAf iPVvYb\" style=\"max-width: 1000px; height: 143px; margin: 0px; width: 304px;\" alt=\"Mean, Variance and Standard Deviation - GeeksforGeeks\" jsname=\"kn3ccd\">"
   ]
  },
  {
   "cell_type": "code",
   "execution_count": 30,
   "id": "24f36025-afdf-44f8-ac2f-80efa74ab087",
   "metadata": {},
   "outputs": [
    {
     "data": {
      "text/plain": [
       "np.float64(11.180339887498949)"
      ]
     },
     "execution_count": 30,
     "metadata": {},
     "output_type": "execute_result"
    }
   ],
   "source": [
    "np.std(np.array(l1))"
   ]
  },
  {
   "cell_type": "code",
   "execution_count": 21,
   "id": "8ad63ad3-d911-4b4c-a606-6e15534bffd8",
   "metadata": {},
   "outputs": [
    {
     "data": {
      "text/plain": [
       "np.float64(2351.05)"
      ]
     },
     "execution_count": 21,
     "metadata": {},
     "output_type": "execute_result"
    }
   ],
   "source": [
    "mean = np.mean(l1)\n",
    "arr1 = np.array(l1)\n",
    "s1 = arr1-mean\n",
    "s2 = np.square(s1)\n",
    "s3 = np.sum(s2)\n",
    "s3/len(l1)"
   ]
  },
  {
   "cell_type": "code",
   "execution_count": 22,
   "id": "64b95ba7-e519-4b0e-b1b6-82bfee0276cf",
   "metadata": {},
   "outputs": [
    {
     "data": {
      "text/plain": [
       "np.float64(2351.05)"
      ]
     },
     "execution_count": 22,
     "metadata": {},
     "output_type": "execute_result"
    }
   ],
   "source": [
    "np.sum(np.square(np.array(l1)-np.mean(l1)))/len(l1)"
   ]
  },
  {
   "cell_type": "code",
   "execution_count": 23,
   "id": "abccb905-20ce-43ea-a4f6-173216515ffc",
   "metadata": {},
   "outputs": [
    {
     "data": {
      "text/plain": [
       "np.float64(48.48762728779374)"
      ]
     },
     "execution_count": 23,
     "metadata": {},
     "output_type": "execute_result"
    }
   ],
   "source": [
    "np.sqrt(np.sum(np.square(np.array(l1)-np.mean(l1)))/len(l1))"
   ]
  },
  {
   "cell_type": "code",
   "execution_count": 25,
   "id": "1dcb3124-53fc-41ed-bf23-cede6e2b2534",
   "metadata": {},
   "outputs": [
    {
     "data": {
      "text/plain": [
       "np.float64(122.5)"
      ]
     },
     "execution_count": 25,
     "metadata": {},
     "output_type": "execute_result"
    }
   ],
   "source": [
    "l1 = [10,20,30,40]\n",
    "l2 = [20,32,40,50]\n",
    "\n",
    "arr1 = np.array(l1)\n",
    "arr2 = np.array(l2)\n",
    "mean_x = np.mean(l1)\n",
    "mean_y = np.mean(l2)\n",
    "s1 = arr1-mean_x\n",
    "s2 = arr2-mean_y\n",
    "s3 = s1*s2\n",
    "s4 = np.sum(s3)\n",
    "s5 = s4/len(l1)\n",
    "s5"
   ]
  },
  {
   "cell_type": "code",
   "execution_count": 26,
   "id": "892f19bc-f66a-446a-b6e0-02de35968cd2",
   "metadata": {},
   "outputs": [
    {
     "data": {
      "text/plain": [
       "array([[166.66666667, 163.33333333],\n",
       "       [163.33333333, 161.        ]])"
      ]
     },
     "execution_count": 26,
     "metadata": {},
     "output_type": "execute_result"
    }
   ],
   "source": [
    "np.cov(arr1,arr2)"
   ]
  },
  {
   "cell_type": "code",
   "execution_count": 28,
   "id": "0e3c9ca1-5767-4480-ba7a-59ecddc0fe10",
   "metadata": {},
   "outputs": [
    {
     "data": {
      "text/plain": [
       "array(166.66666667)"
      ]
     },
     "execution_count": 28,
     "metadata": {},
     "output_type": "execute_result"
    }
   ],
   "source": [
    "np.cov(np.array(l1))"
   ]
  },
  {
   "cell_type": "code",
   "execution_count": 1,
   "id": "7c8374c4-982c-480f-ab36-a928b6fb9fc3",
   "metadata": {},
   "outputs": [],
   "source": [
    "import numpy as np"
   ]
  },
  {
   "cell_type": "code",
   "execution_count": 3,
   "id": "5e8f68dc-c742-4218-a8c8-2963d028ad35",
   "metadata": {},
   "outputs": [],
   "source": [
    "l1 = [10,20]\n",
    "l2 = [5,4]"
   ]
  },
  {
   "cell_type": "code",
   "execution_count": 4,
   "id": "216242eb-42b5-4163-ace9-cfb9ea068c58",
   "metadata": {},
   "outputs": [],
   "source": [
    "arr1 = np.array(l1)\n",
    "arr2 = np.array(l2)"
   ]
  },
  {
   "cell_type": "code",
   "execution_count": 6,
   "id": "30c31cc8-ad25-402b-8560-f7d64d3ae660",
   "metadata": {},
   "outputs": [
    {
     "name": "stdout",
     "output_type": "stream",
     "text": [
      "16.76305461424021\n"
     ]
    }
   ],
   "source": [
    "print(np.sqrt(np.sum(np.square(arr1 - arr2))))"
   ]
  },
  {
   "cell_type": "code",
   "execution_count": null,
   "id": "a3f51d42-7803-4f76-9a3e-850b59e492c4",
   "metadata": {},
   "outputs": [],
   "source": []
  }
 ],
 "metadata": {
  "kernelspec": {
   "display_name": "Python [conda env:notebook-6.5.7]",
   "language": "python",
   "name": "conda-env-notebook-6.5.7-py"
  },
  "language_info": {
   "codemirror_mode": {
    "name": "ipython",
    "version": 3
   },
   "file_extension": ".py",
   "mimetype": "text/x-python",
   "name": "python",
   "nbconvert_exporter": "python",
   "pygments_lexer": "ipython3",
   "version": "3.11.11"
  }
 },
 "nbformat": 4,
 "nbformat_minor": 5
}
