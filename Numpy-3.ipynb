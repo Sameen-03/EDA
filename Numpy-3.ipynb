{
 "cells": [
  {
   "cell_type": "code",
   "execution_count": 1,
   "id": "d2d8db85-bd9a-41ca-914f-6b68f0469213",
   "metadata": {},
   "outputs": [],
   "source": [
    "import numpy as np"
   ]
  },
  {
   "cell_type": "code",
   "execution_count": 2,
   "id": "3bf16f9b-b641-45b4-8ab6-59bd314b514e",
   "metadata": {},
   "outputs": [
    {
     "data": {
      "text/plain": [
       "array([1, 2, 3, 4])"
      ]
     },
     "execution_count": 2,
     "metadata": {},
     "output_type": "execute_result"
    }
   ],
   "source": [
    "np.array([1,2,3,4])"
   ]
  },
  {
   "cell_type": "code",
   "execution_count": 4,
   "id": "4dfb6cee-4fb7-49bc-b747-f6571524f28c",
   "metadata": {},
   "outputs": [
    {
     "data": {
      "text/plain": [
       "array([[0., 0., 0.],\n",
       "       [0., 0., 0.]])"
      ]
     },
     "execution_count": 4,
     "metadata": {},
     "output_type": "execute_result"
    }
   ],
   "source": [
    "np.zeros((2,3))"
   ]
  },
  {
   "cell_type": "code",
   "execution_count": 5,
   "id": "b4c13684-0bf8-4660-abc3-275e97b50a59",
   "metadata": {},
   "outputs": [
    {
     "data": {
      "text/plain": [
       "array([[1., 1., 1.],\n",
       "       [1., 1., 1.]])"
      ]
     },
     "execution_count": 5,
     "metadata": {},
     "output_type": "execute_result"
    }
   ],
   "source": [
    "np.ones((2,3))"
   ]
  },
  {
   "cell_type": "code",
   "execution_count": 10,
   "id": "2986bd3b-cace-48ba-87a5-41232199b495",
   "metadata": {},
   "outputs": [],
   "source": [
    "arr1 = np.eye(3)"
   ]
  },
  {
   "cell_type": "code",
   "execution_count": 11,
   "id": "8cbcd12a-c465-46ad-b6c8-f4706e6452d1",
   "metadata": {},
   "outputs": [
    {
     "data": {
      "text/plain": [
       "array([1., 0., 0., 0., 1., 0., 0., 0., 1.])"
      ]
     },
     "execution_count": 11,
     "metadata": {},
     "output_type": "execute_result"
    }
   ],
   "source": [
    "arr1.flatten()"
   ]
  },
  {
   "cell_type": "code",
   "execution_count": 12,
   "id": "102b81d4-6334-4fe7-aaf8-aab7f82f12e4",
   "metadata": {},
   "outputs": [
    {
     "data": {
      "text/plain": [
       "[1.0, 0.0, 0.0, 0.0, 1.0, 0.0, 0.0, 0.0, 1.0]"
      ]
     },
     "execution_count": 12,
     "metadata": {},
     "output_type": "execute_result"
    }
   ],
   "source": [
    "arr1.flatten().tolist()"
   ]
  },
  {
   "cell_type": "markdown",
   "id": "cfbc4504-16e6-4247-9f95-7e9316e600e9",
   "metadata": {},
   "source": [
    "- what if we want random integers"
   ]
  },
  {
   "cell_type": "code",
   "execution_count": 2,
   "id": "f60c7ee2-ad33-406c-a014-ae35703db64e",
   "metadata": {},
   "outputs": [
    {
     "data": {
      "text/plain": [
       "10"
      ]
     },
     "execution_count": 2,
     "metadata": {},
     "output_type": "execute_result"
    }
   ],
   "source": [
    "import random\n",
    "random.randint(10,20)"
   ]
  },
  {
   "cell_type": "code",
   "execution_count": 3,
   "id": "cceea980-8ce6-4835-aadc-aaae99f4a2bd",
   "metadata": {},
   "outputs": [
    {
     "data": {
      "text/plain": [
       "1"
      ]
     },
     "execution_count": 3,
     "metadata": {},
     "output_type": "execute_result"
    }
   ],
   "source": [
    "import numpy as np\n",
    "np.random.randint(10)"
   ]
  },
  {
   "cell_type": "markdown",
   "id": "3eca1c59-1421-49a7-a690-45d7054844a6",
   "metadata": {},
   "source": [
    "- when we develop ml models we use some data for training and some for testing\n",
    "\n",
    "- also we will use multiple models for training and testing\n",
    "\n",
    "- out of these which model gives best result we select that\n",
    "\n",
    "- so we need every model should test on same data\n",
    "\n",
    "- this we can achieve by np.random.seed"
   ]
  },
  {
   "cell_type": "code",
   "execution_count": 4,
   "id": "87ccbbf5-0d71-499c-8810-6e4786f7d637",
   "metadata": {},
   "outputs": [
    {
     "data": {
      "text/plain": [
       "array([48, 38, 24, 17, 30])"
      ]
     },
     "execution_count": 4,
     "metadata": {},
     "output_type": "execute_result"
    }
   ],
   "source": [
    "np.random.seed(42)\n",
    "np.random.randint(10,50,size = 5)"
   ]
  },
  {
   "cell_type": "code",
   "execution_count": 5,
   "id": "0c1673ac-3661-4be1-b163-7d0cd796e736",
   "metadata": {},
   "outputs": [
    {
     "data": {
      "text/plain": [
       "array([48, 28, 32, 20, 20])"
      ]
     },
     "execution_count": 5,
     "metadata": {},
     "output_type": "execute_result"
    }
   ],
   "source": [
    "np.random.randint(10,50,size = 5)"
   ]
  },
  {
   "cell_type": "code",
   "execution_count": null,
   "id": "e7417dcf-6b8c-4895-a9be-c57a69c16eaf",
   "metadata": {},
   "outputs": [],
   "source": []
  }
 ],
 "metadata": {
  "kernelspec": {
   "display_name": "Python 3 (ipykernel)",
   "language": "python",
   "name": "python3"
  },
  "language_info": {
   "codemirror_mode": {
    "name": "ipython",
    "version": 3
   },
   "file_extension": ".py",
   "mimetype": "text/x-python",
   "name": "python",
   "nbconvert_exporter": "python",
   "pygments_lexer": "ipython3",
   "version": "3.11.7"
  }
 },
 "nbformat": 4,
 "nbformat_minor": 5
}
