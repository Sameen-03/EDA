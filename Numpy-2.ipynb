{
 "cells": [
  {
   "cell_type": "code",
   "execution_count": 1,
   "id": "8c266d0b-8273-4b5b-bac2-8215e080b217",
   "metadata": {},
   "outputs": [
    {
     "data": {
      "text/plain": [
       "array([10, 20, 30, 40])"
      ]
     },
     "execution_count": 1,
     "metadata": {},
     "output_type": "execute_result"
    }
   ],
   "source": [
    "import numpy as np\n",
    "l1 = [10,20,30,40]\n",
    "arr1 = np.array(l1)\n",
    "arr1"
   ]
  },
  {
   "cell_type": "code",
   "execution_count": 3,
   "id": "3be121fa-4beb-47f3-a3da-555522dbab3d",
   "metadata": {},
   "outputs": [
    {
     "data": {
      "text/plain": [
       "1"
      ]
     },
     "execution_count": 3,
     "metadata": {},
     "output_type": "execute_result"
    }
   ],
   "source": [
    "arr1.ndim"
   ]
  },
  {
   "cell_type": "code",
   "execution_count": 4,
   "id": "487f5cfc-52e1-4c8e-93f7-ba65280e4b2a",
   "metadata": {},
   "outputs": [
    {
     "data": {
      "text/plain": [
       "(4,)"
      ]
     },
     "execution_count": 4,
     "metadata": {},
     "output_type": "execute_result"
    }
   ],
   "source": [
    "arr1.shape"
   ]
  },
  {
   "cell_type": "code",
   "execution_count": 5,
   "id": "c5db020f-dc12-42f2-91f4-e81ee5b25183",
   "metadata": {},
   "outputs": [
    {
     "data": {
      "text/plain": [
       "4"
      ]
     },
     "execution_count": 5,
     "metadata": {},
     "output_type": "execute_result"
    }
   ],
   "source": [
    "arr1.size"
   ]
  },
  {
   "cell_type": "code",
   "execution_count": 7,
   "id": "47a13a23-4636-41b7-b6d8-eb4e0ab5a7c6",
   "metadata": {},
   "outputs": [
    {
     "data": {
      "text/plain": [
       "array([[10, 20, 30, 40],\n",
       "       [ 1,  2,  3,  4]])"
      ]
     },
     "execution_count": 7,
     "metadata": {},
     "output_type": "execute_result"
    }
   ],
   "source": [
    "l1 = [10,20,30,40]\n",
    "l2 = [1,2,3,4]\n",
    "#2d means 2 lists\n",
    "\n",
    "arr2d = np.array([l1,l2])\n",
    "arr2d"
   ]
  },
  {
   "cell_type": "code",
   "execution_count": 8,
   "id": "931ec8e2-ec74-4a86-bd38-e8720f5ab307",
   "metadata": {},
   "outputs": [
    {
     "data": {
      "text/plain": [
       "2"
      ]
     },
     "execution_count": 8,
     "metadata": {},
     "output_type": "execute_result"
    }
   ],
   "source": [
    "arr2d.ndim"
   ]
  },
  {
   "cell_type": "code",
   "execution_count": 9,
   "id": "d4e12aeb-e87a-4e4e-a5b8-38613b26fe6b",
   "metadata": {},
   "outputs": [
    {
     "data": {
      "text/plain": [
       "(2, 4)"
      ]
     },
     "execution_count": 9,
     "metadata": {},
     "output_type": "execute_result"
    }
   ],
   "source": [
    "arr2d.shape"
   ]
  },
  {
   "cell_type": "code",
   "execution_count": 10,
   "id": "3cf1f228-6ae2-43f0-b35c-a7c59cbe0617",
   "metadata": {},
   "outputs": [
    {
     "data": {
      "text/plain": [
       "8"
      ]
     },
     "execution_count": 10,
     "metadata": {},
     "output_type": "execute_result"
    }
   ],
   "source": [
    "arr2d.size"
   ]
  },
  {
   "cell_type": "code",
   "execution_count": 16,
   "id": "79480a5f-db30-4375-a2ee-c429bfd7d1fc",
   "metadata": {},
   "outputs": [
    {
     "data": {
      "text/plain": [
       "array([[[10, 20, 30, 40],\n",
       "        [ 1,  2,  3,  4]]])"
      ]
     },
     "execution_count": 16,
     "metadata": {},
     "output_type": "execute_result"
    }
   ],
   "source": [
    "l1 = [10,20,30,40]\n",
    "l2 = [1,2,3,4]\n",
    "#2d means 2 lists\n",
    "\n",
    "arr3d = np.array([[l1,l2]])\n",
    "arr3d"
   ]
  },
  {
   "cell_type": "code",
   "execution_count": 17,
   "id": "08334322-90c5-48e1-a6eb-9ba1a60fae28",
   "metadata": {},
   "outputs": [
    {
     "data": {
      "text/plain": [
       "3"
      ]
     },
     "execution_count": 17,
     "metadata": {},
     "output_type": "execute_result"
    }
   ],
   "source": [
    "arr3d.ndim"
   ]
  },
  {
   "cell_type": "code",
   "execution_count": 18,
   "id": "44b315c8-528f-4d35-95b5-9f82759d699b",
   "metadata": {},
   "outputs": [
    {
     "data": {
      "text/plain": [
       "8"
      ]
     },
     "execution_count": 18,
     "metadata": {},
     "output_type": "execute_result"
    }
   ],
   "source": [
    "arr3d.size"
   ]
  },
  {
   "cell_type": "code",
   "execution_count": 19,
   "id": "7036cff7-329b-40e0-af1a-b66eab573836",
   "metadata": {},
   "outputs": [
    {
     "data": {
      "text/plain": [
       "(1, 2, 4)"
      ]
     },
     "execution_count": 19,
     "metadata": {},
     "output_type": "execute_result"
    }
   ],
   "source": [
    "arr3d.shape"
   ]
  },
  {
   "cell_type": "markdown",
   "id": "9b9876c2-7623-4fdb-a255-bf06970dea3b",
   "metadata": {},
   "source": [
    "l, m, n: 2,2,4\n",
    "\n",
    "- n indicates how many elemets we have in a list #4\n",
    "    - 2,2,4\n",
    "    - a list has 4 elements : [10,20,30,40]\n",
    "\n",
    "- m indicates how many lists are available #2\n",
    "    - m = 2 means 2 lists are available\n",
    "    - each list how many 4 values\n",
    "    - one list name is: l1\n",
    "    - another list name is: l2\n",
    "    -m : [l1,l2]\n",
    "\n",
    "-l indicates how many m  #2\n",
    "    - l = 2 means there are 2 m's available\n",
    "    - m : [l1,l2]\n",
    "    - [[l1,l2],[l1,l2]]\n",
    "    "
   ]
  },
  {
   "cell_type": "code",
   "execution_count": 20,
   "id": "3772c9d1-bc24-4f9f-aa41-33692624e51e",
   "metadata": {},
   "outputs": [
    {
     "data": {
      "text/plain": [
       "(2, 2, 4)"
      ]
     },
     "execution_count": 20,
     "metadata": {},
     "output_type": "execute_result"
    }
   ],
   "source": [
    "np.array([[l1,l2],[l1,l2]]).shape"
   ]
  },
  {
   "cell_type": "code",
   "execution_count": 21,
   "id": "98aa2132-4a3d-4bba-81e8-9435fa7116c1",
   "metadata": {},
   "outputs": [
    {
     "data": {
      "text/plain": [
       "(2, 4)"
      ]
     },
     "execution_count": 21,
     "metadata": {},
     "output_type": "execute_result"
    }
   ],
   "source": [
    "np.array([l1,l2]).shape"
   ]
  },
  {
   "cell_type": "code",
   "execution_count": 23,
   "id": "6f422372-e32e-49bd-ab95-d1d306c379dc",
   "metadata": {},
   "outputs": [
    {
     "data": {
      "text/plain": [
       "(3, 2, 4)"
      ]
     },
     "execution_count": 23,
     "metadata": {},
     "output_type": "execute_result"
    }
   ],
   "source": [
    "np.array([[l1,l2],[l1,l2],[l1,l2]]).shape"
   ]
  },
  {
   "cell_type": "code",
   "execution_count": 24,
   "id": "8452a5b1-51c2-4ce8-abee-6f914247d03a",
   "metadata": {},
   "outputs": [
    {
     "data": {
      "text/plain": [
       "(4, 3, 2, 4)"
      ]
     },
     "execution_count": 24,
     "metadata": {},
     "output_type": "execute_result"
    }
   ],
   "source": [
    "np.array([[[l1,l2],[l1,l2],[l1,l2]],[[l1,l2],[l1,l2],[l1,l2]],[[l1,l2],[l1,l2],[l1,l2]],[[l1,l2],[l1,l2],[l1,l2]]]).shape"
   ]
  },
  {
   "cell_type": "code",
   "execution_count": 25,
   "id": "73b8a2e8-5458-410f-b851-539546bf31c6",
   "metadata": {},
   "outputs": [
    {
     "data": {
      "text/plain": [
       "(5, 4, 3, 2, 4)"
      ]
     },
     "execution_count": 25,
     "metadata": {},
     "output_type": "execute_result"
    }
   ],
   "source": [
    "np.array([[[[l1,l2],[l1,l2],[l1,l2]],[[l1,l2],[l1,l2],[l1,l2]],[[l1,l2],[l1,l2],[l1,l2]],[[l1,l2],[l1,l2],[l1,l2]]],[[[l1,l2],[l1,l2],[l1,l2]],[[l1,l2],[l1,l2],[l1,l2]],[[l1,l2],[l1,l2],[l1,l2]],[[l1,l2],[l1,l2],[l1,l2]]],[[[l1,l2],[l1,l2],[l1,l2]],[[l1,l2],[l1,l2],[l1,l2]],[[l1,l2],[l1,l2],[l1,l2]],[[l1,l2],[l1,l2],[l1,l2]]],[[[l1,l2],[l1,l2],[l1,l2]],[[l1,l2],[l1,l2],[l1,l2]],[[l1,l2],[l1,l2],[l1,l2]],[[l1,l2],[l1,l2],[l1,l2]]],[[[l1,l2],[l1,l2],[l1,l2]],[[l1,l2],[l1,l2],[l1,l2]],[[l1,l2],[l1,l2],[l1,l2]],[[l1,l2],[l1,l2],[l1,l2]]]]).shape"
   ]
  },
  {
   "cell_type": "code",
   "execution_count": null,
   "id": "71a1d597-6cf7-485d-a039-c1b7374ac4a7",
   "metadata": {},
   "outputs": [],
   "source": []
  }
 ],
 "metadata": {
  "kernelspec": {
   "display_name": "Python 3 (ipykernel)",
   "language": "python",
   "name": "python3"
  },
  "language_info": {
   "codemirror_mode": {
    "name": "ipython",
    "version": 3
   },
   "file_extension": ".py",
   "mimetype": "text/x-python",
   "name": "python",
   "nbconvert_exporter": "python",
   "pygments_lexer": "ipython3",
   "version": "3.11.7"
  }
 },
 "nbformat": 4,
 "nbformat_minor": 5
}
